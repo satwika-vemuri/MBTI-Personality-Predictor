{
 "cells": [
  {
   "cell_type": "code",
   "execution_count": null,
   "metadata": {},
   "outputs": [],
   "source": [
    "from flask import Flask, request\n",
    "import json\n",
    "\n",
    "app = Flask(__name__)\n",
    "\n",
    "@app.route('/')\n",
    "def index():\n",
    "    return \"Flask server\"\n",
    "\n",
    "@app.route('/postdata', methods=['POST'])\n",
    "def postdata():\n",
    "    data = request.get_json()\n",
    "    return json.dumps({\"newdata\": (\"you gave me: \" + data)})\n",
    "\n",
    "if __name__ == \"__main__\":\n",
    "    app.run(port = 5000)"
   ]
  }
 ],
 "metadata": {
  "language_info": {
   "name": "python"
  },
  "orig_nbformat": 4
 },
 "nbformat": 4,
 "nbformat_minor": 2
}
